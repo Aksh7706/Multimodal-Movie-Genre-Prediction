{
  "nbformat": 4,
  "nbformat_minor": 0,
  "metadata": {
    "colab": {
      "name": "Modal.ipynb",
      "provenance": [],
      "collapsed_sections": []
    },
    "kernelspec": {
      "name": "python3",
      "display_name": "Python 3"
    },
    "language_info": {
      "name": "python"
    },
    "accelerator": "GPU"
  },
  "cells": [
    {
      "cell_type": "code",
      "metadata": {
        "colab": {
          "base_uri": "https://localhost:8080/"
        },
        "id": "tmdBUCbYpAtk",
        "outputId": "2afa4ba2-facd-4f93-93ee-dbb9acfc24a8"
      },
      "source": [
        "!wget -c \"https://s3.amazonaws.com/dl4j-distribution/GoogleNews-vectors-negative300.bin.gz\""
      ],
      "execution_count": null,
      "outputs": [
        {
          "output_type": "stream",
          "text": [
            "--2021-05-13 13:03:51--  https://s3.amazonaws.com/dl4j-distribution/GoogleNews-vectors-negative300.bin.gz\n",
            "Resolving s3.amazonaws.com (s3.amazonaws.com)... 52.216.169.61\n",
            "Connecting to s3.amazonaws.com (s3.amazonaws.com)|52.216.169.61|:443... connected.\n",
            "HTTP request sent, awaiting response... 200 OK\n",
            "Length: 1647046227 (1.5G) [application/x-gzip]\n",
            "Saving to: ‘GoogleNews-vectors-negative300.bin.gz’\n",
            "\n",
            "GoogleNews-vectors- 100%[===================>]   1.53G  14.3MB/s    in 2m 2s   \n",
            "\n",
            "2021-05-13 13:05:54 (12.9 MB/s) - ‘GoogleNews-vectors-negative300.bin.gz’ saved [1647046227/1647046227]\n",
            "\n"
          ],
          "name": "stdout"
        }
      ]
    },
    {
      "cell_type": "code",
      "metadata": {
        "id": "wunFwATHru6W"
      },
      "source": [
        "!gunzip /content/GoogleNews-vectors-negative300.bin.gz"
      ],
      "execution_count": null,
      "outputs": []
    },
    {
      "cell_type": "code",
      "metadata": {
        "id": "MJIP09Xesb08"
      },
      "source": [
        ""
      ],
      "execution_count": null,
      "outputs": []
    },
    {
      "cell_type": "code",
      "metadata": {
        "colab": {
          "base_uri": "https://localhost:8080/"
        },
        "id": "Zaj-_joSrvxV",
        "outputId": "6968388a-578e-4bc9-d851-41584e5538bd"
      },
      "source": [
        "import pandas as pd\n",
        "import numpy as np\n",
        "import pickle\n",
        "import re\n",
        "import nltk\n",
        "nltk.download('stopwords')\n",
        "nltk.download('punkt')\n",
        "nltk.download('wordnet')\n",
        "from nltk.corpus import stopwords\n",
        "from nltk.stem import WordNetLemmatizer \n",
        "from nltk.tokenize import word_tokenize \n",
        "import matplotlib.pyplot as plt\n",
        "import seaborn as sns\n",
        "import matplotlib.style as style\n",
        "import ast\n",
        "from sklearn.preprocessing import MultiLabelBinarizer\n",
        "from string import punctuation\n",
        "from gensim.models import KeyedVectors\n"
      ],
      "execution_count": null,
      "outputs": [
        {
          "output_type": "stream",
          "text": [
            "[nltk_data] Downloading package stopwords to /root/nltk_data...\n",
            "[nltk_data]   Unzipping corpora/stopwords.zip.\n",
            "[nltk_data] Downloading package punkt to /root/nltk_data...\n",
            "[nltk_data]   Unzipping tokenizers/punkt.zip.\n",
            "[nltk_data] Downloading package wordnet to /root/nltk_data...\n",
            "[nltk_data]   Unzipping corpora/wordnet.zip.\n"
          ],
          "name": "stdout"
        }
      ]
    },
    {
      "cell_type": "code",
      "metadata": {
        "id": "QTmQoNXnryLw"
      },
      "source": [
        "from sklearn.metrics import hamming_loss\n",
        "from sklearn.metrics import accuracy_score\n",
        "from sklearn.metrics import confusion_matrix\n",
        "from sklearn.metrics import precision_score\n",
        "from sklearn.metrics import recall_score\n",
        "from sklearn.metrics import f1_score\n",
        "from sklearn.metrics import roc_auc_score\n"
      ],
      "execution_count": null,
      "outputs": []
    },
    {
      "cell_type": "code",
      "metadata": {
        "id": "yR9fIVFKr1dm"
      },
      "source": [
        "style.use('seaborn-poster')\n",
        "style.use('ggplot')"
      ],
      "execution_count": null,
      "outputs": []
    },
    {
      "cell_type": "code",
      "metadata": {
        "colab": {
          "base_uri": "https://localhost:8080/"
        },
        "id": "OaZgh6r3r24j",
        "outputId": "c23a83c6-2c19-4cde-f634-5e4fd03c67e4"
      },
      "source": [
        "with open('/content/drive/My Drive/Movie_genre_prediction_dataset/train_np_imgs_norm','rb') as f: X_img_train = pickle.load(f)\n",
        "X_img_train.shape"
      ],
      "execution_count": null,
      "outputs": [
        {
          "output_type": "execute_result",
          "data": {
            "text/plain": [
              "(29568, 64, 64, 3)"
            ]
          },
          "metadata": {
            "tags": []
          },
          "execution_count": 9
        }
      ]
    },
    {
      "cell_type": "code",
      "metadata": {
        "colab": {
          "base_uri": "https://localhost:8080/"
        },
        "id": "JlhAlZ3vr4sA",
        "outputId": "66b80988-0f09-4322-9cc3-85ff5df56c4c"
      },
      "source": [
        "with open('/content/drive/My Drive/Movie_genre_prediction_dataset/test_np_imgs_norm', 'rb') as f: X_img_test = pickle.load(f)\n",
        "X_img_test.shape"
      ],
      "execution_count": null,
      "outputs": [
        {
          "output_type": "execute_result",
          "data": {
            "text/plain": [
              "(8214, 64, 64, 3)"
            ]
          },
          "metadata": {
            "tags": []
          },
          "execution_count": 10
        }
      ]
    },
    {
      "cell_type": "code",
      "metadata": {
        "colab": {
          "base_uri": "https://localhost:8080/"
        },
        "id": "x89FMCm7r6KQ",
        "outputId": "94e5f5a9-785d-4272-ec01-24105150f5eb"
      },
      "source": [
        "with open('/content/drive/My Drive/Movie_genre_prediction_dataset/val_np_img_norm', 'rb') as f: X_img_val = pickle.load(f)\n",
        "X_img_val.shape"
      ],
      "execution_count": null,
      "outputs": [
        {
          "output_type": "execute_result",
          "data": {
            "text/plain": [
              "(3286, 64, 64, 3)"
            ]
          },
          "metadata": {
            "tags": []
          },
          "execution_count": 58
        }
      ]
    },
    {
      "cell_type": "code",
      "metadata": {
        "id": "BaugTM-3r8Fh"
      },
      "source": [
        "dataset = pd.read_csv(\"/content/drive/My Drive/Movie_genre_prediction_dataset/dataset_mod.csv\")\n",
        "train = pd.read_csv(\"/content/drive/My Drive/Movie_genre_prediction_dataset/train_data.csv\")\n",
        "test = pd.read_csv(\"/content/drive/My Drive/Movie_genre_prediction_dataset/test_data.csv\")\n",
        "val = pd.read_csv(\"/content/drive/My Drive/Movie_genre_prediction_dataset/val_data.csv\")\n"
      ],
      "execution_count": null,
      "outputs": []
    },
    {
      "cell_type": "code",
      "metadata": {
        "id": "_PlFqlh6r9rO"
      },
      "source": [
        "dataset['genre_list'] = dataset['genre_list'].apply(lambda x: ast.literal_eval(x))\n",
        "train['genre_list'] = train['genre_list'].apply(lambda x: ast.literal_eval(x))\n",
        "test['genre_list'] = test['genre_list'].apply(lambda x: ast.literal_eval(x))\n",
        "val['genre_list'] = val['genre_list'].apply(lambda x: ast.literal_eval(x))"
      ],
      "execution_count": null,
      "outputs": []
    },
    {
      "cell_type": "code",
      "metadata": {
        "colab": {
          "base_uri": "https://localhost:8080/"
        },
        "id": "zAdIxuvRr_5x",
        "outputId": "7511bbcf-5dcb-4ed7-9ad4-ce79566f45df"
      },
      "source": [
        "mlb = MultiLabelBinarizer()\n",
        "mlb.fit(dataset['genre_list'].tolist())\n",
        "mlb.classes_\n"
      ],
      "execution_count": null,
      "outputs": [
        {
          "output_type": "execute_result",
          "data": {
            "text/plain": [
              "array(['Action', 'Adventure', 'Animation', 'Comedy', 'Crime',\n",
              "       'Documentary', 'Drama', 'Family', 'Fantasy', 'History', 'Horror',\n",
              "       'Music', 'Mystery', 'Romance', 'Science Fiction', 'Thriller',\n",
              "       'War', 'Western'], dtype=object)"
            ]
          },
          "metadata": {
            "tags": []
          },
          "execution_count": 14
        }
      ]
    },
    {
      "cell_type": "code",
      "metadata": {
        "colab": {
          "base_uri": "https://localhost:8080/"
        },
        "id": "0uOYp7PCsBg2",
        "outputId": "5df42fa7-ae6c-4aa8-f859-17bf4038d104"
      },
      "source": [
        "transformed_labels = mlb.fit_transform(dataset['genre_list'].tolist())\n",
        "transformed_labels.shape\n"
      ],
      "execution_count": null,
      "outputs": [
        {
          "output_type": "execute_result",
          "data": {
            "text/plain": [
              "(41069, 18)"
            ]
          },
          "metadata": {
            "tags": []
          },
          "execution_count": 15
        }
      ]
    },
    {
      "cell_type": "code",
      "metadata": {
        "colab": {
          "base_uri": "https://localhost:8080/"
        },
        "id": "pIpHzvObsCTP",
        "outputId": "c90e0a49-c677-4264-d220-7da5cadef8b4"
      },
      "source": [
        "train_labels = mlb.transform(train['genre_list'].tolist())\n",
        "train_labels.shape"
      ],
      "execution_count": null,
      "outputs": [
        {
          "output_type": "execute_result",
          "data": {
            "text/plain": [
              "(29568, 18)"
            ]
          },
          "metadata": {
            "tags": []
          },
          "execution_count": 16
        }
      ]
    },
    {
      "cell_type": "code",
      "metadata": {
        "colab": {
          "base_uri": "https://localhost:8080/"
        },
        "id": "-BLnxrRpsDqu",
        "outputId": "11e80c14-5a36-44ce-827d-7a327c4429ab"
      },
      "source": [
        "test_labels = mlb.transform(test['genre_list'].tolist())\n",
        "test_labels.shape"
      ],
      "execution_count": null,
      "outputs": [
        {
          "output_type": "execute_result",
          "data": {
            "text/plain": [
              "(8214, 18)"
            ]
          },
          "metadata": {
            "tags": []
          },
          "execution_count": 17
        }
      ]
    },
    {
      "cell_type": "code",
      "metadata": {
        "colab": {
          "base_uri": "https://localhost:8080/"
        },
        "id": "FD-9p_mJsFiC",
        "outputId": "4363d287-2b3b-4a7c-ef79-12fb5fab1a86"
      },
      "source": [
        "val_labels = mlb.transform(val['genre_list'].tolist())\n",
        "val_labels.shape"
      ],
      "execution_count": null,
      "outputs": [
        {
          "output_type": "execute_result",
          "data": {
            "text/plain": [
              "(3286, 18)"
            ]
          },
          "metadata": {
            "tags": []
          },
          "execution_count": 18
        }
      ]
    },
    {
      "cell_type": "code",
      "metadata": {
        "id": "bn3Xpup-sIx3"
      },
      "source": [
        "stop = stopwords.words('english')\n",
        "lemmatizer = WordNetLemmatizer()\n",
        "\n",
        "def clean_text(text):\n",
        "  text = text.translate(str.maketrans('', '', punctuation))\n",
        "  text = text.lower().strip()\n",
        "  text = ' '.join([i if i not in stop and i.isalpha() else '' for i in text.lower().split()])\n",
        "  text = ' '.join([lemmatizer.lemmatize(w) for w in word_tokenize(text)])\n",
        "  text = re.sub(r\"\\s{2,}\", \" \", text)\n",
        "  return text\n",
        "\n",
        "train['overview'] = train['overview'].astype(str)\n",
        "test['overview'] = test['overview'].astype(str)\n",
        "val['overview'] = val['overview'].astype(str)\n",
        "\n",
        "train['overview'] = train['overview'].apply(lambda text: clean_text(text))\n",
        "test['overview'] = test['overview'].apply(lambda text: clean_text(text))\n",
        "val['overview'] = val['overview'].apply(lambda text: clean_text(text))\n"
      ],
      "execution_count": null,
      "outputs": []
    },
    {
      "cell_type": "code",
      "metadata": {
        "id": "lDJTgZYhsKOx"
      },
      "source": [
        "dataset['overview'] = dataset['overview'].astype(str)\n",
        "dataset['overview'] = dataset['overview'].apply(lambda text: clean_text(text))"
      ],
      "execution_count": null,
      "outputs": []
    },
    {
      "cell_type": "code",
      "metadata": {
        "id": "Y31cZ-0lwT-0"
      },
      "source": [
        "!pip install tensorflow-gpu "
      ],
      "execution_count": null,
      "outputs": []
    },
    {
      "cell_type": "code",
      "metadata": {
        "id": "H9qTbeujwunb"
      },
      "source": [
        "!pip install tf-nightly "
      ],
      "execution_count": null,
      "outputs": []
    },
    {
      "cell_type": "code",
      "metadata": {
        "id": "nDx3yPJ5sMbx"
      },
      "source": [
        "from keras.preprocessing.text import Tokenizer\n",
        "from keras.preprocessing.sequence import pad_sequences\n",
        "from keras.models import Model, load_model\n",
        "from keras.layers import Embedding, LSTM, Dropout, Dense, Input, Bidirectional, Flatten, Conv2D, MaxPooling2D, concatenate, Conv1D, MaxPooling1D\n",
        "import keras.backend as K\n",
        "from keras.optimizers import Adam, RMSprop\n",
        "from keras.callbacks import ModelCheckpoint, CSVLogger, EarlyStopping"
      ],
      "execution_count": null,
      "outputs": []
    },
    {
      "cell_type": "code",
      "metadata": {
        "colab": {
          "base_uri": "https://localhost:8080/"
        },
        "id": "Y__Y20DDzVw0",
        "outputId": "b53ac0d3-f1c6-4416-ef38-4d790320f270"
      },
      "source": [
        "from tensorflow.python.client import device_lib\n",
        "device_lib.list_local_devices()"
      ],
      "execution_count": null,
      "outputs": [
        {
          "output_type": "execute_result",
          "data": {
            "text/plain": [
              "[name: \"/device:CPU:0\"\n",
              " device_type: \"CPU\"\n",
              " memory_limit: 268435456\n",
              " locality {\n",
              " }\n",
              " incarnation: 1269264273696373089, name: \"/device:GPU:0\"\n",
              " device_type: \"GPU\"\n",
              " memory_limit: 11154422528\n",
              " locality {\n",
              "   bus_id: 1\n",
              "   links {\n",
              "   }\n",
              " }\n",
              " incarnation: 13521132844033706828\n",
              " physical_device_desc: \"device: 0, name: Tesla K80, pci bus id: 0000:00:04.0, compute capability: 3.7\"]"
            ]
          },
          "metadata": {
            "tags": []
          },
          "execution_count": 22
        }
      ]
    },
    {
      "cell_type": "code",
      "metadata": {
        "colab": {
          "base_uri": "https://localhost:8080/"
        },
        "id": "np9ykghuz-4P",
        "outputId": "4f42fbe4-f5e4-44a3-8a19-9b1de740ecf4"
      },
      "source": [
        "import tensorflow as tf\n",
        "tf.test.is_gpu_available()"
      ],
      "execution_count": null,
      "outputs": [
        {
          "output_type": "execute_result",
          "data": {
            "text/plain": [
              "True"
            ]
          },
          "metadata": {
            "tags": []
          },
          "execution_count": 34
        }
      ]
    },
    {
      "cell_type": "code",
      "metadata": {
        "colab": {
          "base_uri": "https://localhost:8080/"
        },
        "id": "qbOX9P3ZsN-N",
        "outputId": "d3bcf72e-c54b-458a-8b6f-ada7925afc25"
      },
      "source": [
        "\n",
        "MAX_NB_WORDS = 50000\n",
        "MAX_SEQUENCE_LENGTH = dataset['overview'].map(len).max()\n",
        "EMBEDDING_DIM = 300\n",
        "tokenizer = Tokenizer(num_words=MAX_NB_WORDS, lower=True)\n",
        "tokenizer.fit_on_texts(dataset['overview'].values)\n",
        "word_index = tokenizer.word_index\n",
        "print('Found %s unique tokens.' % len(word_index))\n",
        "print('Max len:', MAX_SEQUENCE_LENGTH)"
      ],
      "execution_count": null,
      "outputs": [
        {
          "output_type": "stream",
          "text": [
            "Found 75371 unique tokens.\n",
            "Max len: 868\n"
          ],
          "name": "stdout"
        }
      ]
    },
    {
      "cell_type": "code",
      "metadata": {
        "colab": {
          "base_uri": "https://localhost:8080/"
        },
        "id": "SBlKE5XSsdMr",
        "outputId": "4e513b33-53ba-469d-8e95-ee8e5213f97e"
      },
      "source": [
        "X_text_train = tokenizer.texts_to_sequences(train['overview'].values)\n",
        "X_text_train = pad_sequences(X_text_train, maxlen=MAX_SEQUENCE_LENGTH)\n",
        "print('Shape of train tensor:', X_text_train.shape)\n",
        "\n",
        "X_text_test = tokenizer.texts_to_sequences(test['overview'].values)\n",
        "X_text_test = pad_sequences(X_text_test, maxlen=MAX_SEQUENCE_LENGTH)\n",
        "print('Shape of train tensor:', X_text_test.shape)\n",
        "\n",
        "X_text_val = tokenizer.texts_to_sequences(val['overview'].values)\n",
        "X_text_val = pad_sequences(X_text_val, maxlen=MAX_SEQUENCE_LENGTH)\n",
        "print('Shape of train tensor:', X_text_val.shape)"
      ],
      "execution_count": null,
      "outputs": [
        {
          "output_type": "stream",
          "text": [
            "Shape of train tensor: (29568, 868)\n",
            "Shape of train tensor: (8214, 868)\n",
            "Shape of train tensor: (3286, 868)\n"
          ],
          "name": "stdout"
        }
      ]
    },
    {
      "cell_type": "code",
      "metadata": {
        "id": "n4KHNk9GsfuD"
      },
      "source": [
        "def get_embedding_matrix():\n",
        "  word2vecDict = KeyedVectors.load_word2vec_format(\"/content/GoogleNews-vectors-negative300.bin\", binary=True)\n",
        "  embed_size = 300\n",
        "  unique_words = len(word_index)\n",
        "  total_words = unique_words + 1\n",
        "  skipped_words = 0\n",
        "        \n",
        "  embedding_matrix = np.zeros((total_words, embed_size))\n",
        "\n",
        "  for word, index in word_index.items():\n",
        "   try:\n",
        "     embedding_vector = word2vecDict[word]\n",
        "   except:\n",
        "     skipped_words = skipped_words + 1\n",
        "   if embedding_vector is not None:\n",
        "     embedding_matrix[index] = embedding_vector\n",
        "        \n",
        "  print(\"Skipped words : \" + str(skipped_words))\n",
        "        \n",
        "  return embedding_matrix"
      ],
      "execution_count": null,
      "outputs": []
    },
    {
      "cell_type": "code",
      "metadata": {
        "colab": {
          "base_uri": "https://localhost:8080/"
        },
        "id": "PkX92Hzmshi5",
        "outputId": "c223dd65-d516-4ad1-8f2a-024181015b5d"
      },
      "source": [
        "word2vec_embedding_matrix = get_embedding_matrix()"
      ],
      "execution_count": null,
      "outputs": [
        {
          "output_type": "stream",
          "text": [
            "Skipped words : 39855\n"
          ],
          "name": "stdout"
        }
      ]
    },
    {
      "cell_type": "code",
      "metadata": {
        "colab": {
          "base_uri": "https://localhost:8080/"
        },
        "id": "0EaXvjQVsjPI",
        "outputId": "066c868a-71ca-4121-e40c-ed828f7da733"
      },
      "source": [
        "word2vec_embedding_matrix.shape"
      ],
      "execution_count": null,
      "outputs": [
        {
          "output_type": "execute_result",
          "data": {
            "text/plain": [
              "(75372, 300)"
            ]
          },
          "metadata": {
            "tags": []
          },
          "execution_count": 30
        }
      ]
    },
    {
      "cell_type": "code",
      "metadata": {
        "id": "9fx525_Lslbq"
      },
      "source": [
        "def compile_model(embedding_matrix):\n",
        "  lstm_input = Input(shape=(MAX_SEQUENCE_LENGTH,))\n",
        "  x = Embedding(embedding_matrix.shape[0], embedding_matrix.shape[1], weights=[embedding_matrix], mask_zero=True, input_length=MAX_SEQUENCE_LENGTH, trainable=False)(lstm_input)\n",
        "  x = LSTM(64, return_sequences = True)(x)\n",
        "  x = LSTM(64)(x)\n",
        "  lstm_out = Dense(18, activation = 'relu')(x)\n",
        "\n",
        "  print(X_img_train.shape[1], X_img_train.shape[2], X_img_train.shape[3])\n",
        "  cnn_input = Input(shape=(X_img_train.shape[1], X_img_train.shape[2], X_img_train.shape[3]))\n",
        "  y = Conv2D(32, (3, 3), activation='relu', input_shape=(X_img_train.shape[1], X_img_train.shape[2], X_img_train.shape[3]))(cnn_input)\n",
        "  y = MaxPooling2D(2, 2)(y)\n",
        "  y = Conv2D(64, (3, 3), activation='relu')(y)\n",
        "  y = MaxPooling2D(2, 2)(y)\n",
        "  y = Conv2D(128, (3, 3), activation='relu')(y)\n",
        "  y = MaxPooling2D(2, 2)(y)\n",
        "  y = Conv2D(128, (3, 3), activation='relu')(y)\n",
        "  y = MaxPooling2D(2, 2)(y)\n",
        "  y = Flatten()(y)\n",
        "  y = Dropout(0.3)(y)\n",
        "  cnn_out = Dense(512, activation='relu')(y)\n",
        "\n",
        "  concat_inp = concatenate([cnn_out, lstm_out])\n",
        "  z = Dense(256, activation='relu')(concat_inp)\n",
        "  z = Dropout(0.3)(z)\n",
        "  z = Dense(128, activation='relu')(z)\n",
        "  z = Dropout(0.3)(z)\n",
        "  output = Dense(train_labels.shape[1], activation='sigmoid')(z)\n",
        "\n",
        "  model = Model(inputs=[cnn_input, lstm_input], outputs=[output])\n",
        "  adam = Adam(lr=0.001, decay=1e-5)\n",
        "  \n",
        "  model.compile(loss='binary_crossentropy', optimizer=adam, metrics=['accuracy'])\n",
        "  return model"
      ],
      "execution_count": null,
      "outputs": []
    },
    {
      "cell_type": "code",
      "metadata": {
        "colab": {
          "base_uri": "https://localhost:8080/"
        },
        "id": "clQZvNMzsnJI",
        "outputId": "daddaad9-83d4-419e-f973-74e3d90d628f"
      },
      "source": [
        "word2vec_model = compile_model(word2vec_embedding_matrix)\n",
        "word2vec_model.summary()"
      ],
      "execution_count": null,
      "outputs": [
        {
          "output_type": "stream",
          "text": [
            "64 64 3\n",
            "Model: \"model_1\"\n",
            "__________________________________________________________________________________________________\n",
            "Layer (type)                    Output Shape         Param #     Connected to                     \n",
            "==================================================================================================\n",
            "input_4 (InputLayer)            [(None, 64, 64, 3)]  0                                            \n",
            "__________________________________________________________________________________________________\n",
            "conv2d_4 (Conv2D)               (None, 62, 62, 32)   896         input_4[0][0]                    \n",
            "__________________________________________________________________________________________________\n",
            "max_pooling2d_4 (MaxPooling2D)  (None, 31, 31, 32)   0           conv2d_4[0][0]                   \n",
            "__________________________________________________________________________________________________\n",
            "conv2d_5 (Conv2D)               (None, 29, 29, 64)   18496       max_pooling2d_4[0][0]            \n",
            "__________________________________________________________________________________________________\n",
            "max_pooling2d_5 (MaxPooling2D)  (None, 14, 14, 64)   0           conv2d_5[0][0]                   \n",
            "__________________________________________________________________________________________________\n",
            "conv2d_6 (Conv2D)               (None, 12, 12, 128)  73856       max_pooling2d_5[0][0]            \n",
            "__________________________________________________________________________________________________\n",
            "max_pooling2d_6 (MaxPooling2D)  (None, 6, 6, 128)    0           conv2d_6[0][0]                   \n",
            "__________________________________________________________________________________________________\n",
            "conv2d_7 (Conv2D)               (None, 4, 4, 128)    147584      max_pooling2d_6[0][0]            \n",
            "__________________________________________________________________________________________________\n",
            "input_3 (InputLayer)            [(None, 868)]        0                                            \n",
            "__________________________________________________________________________________________________\n",
            "max_pooling2d_7 (MaxPooling2D)  (None, 2, 2, 128)    0           conv2d_7[0][0]                   \n",
            "__________________________________________________________________________________________________\n",
            "embedding_1 (Embedding)         (None, 868, 300)     22611600    input_3[0][0]                    \n",
            "__________________________________________________________________________________________________\n",
            "flatten_1 (Flatten)             (None, 512)          0           max_pooling2d_7[0][0]            \n",
            "__________________________________________________________________________________________________\n",
            "lstm_2 (LSTM)                   (None, 868, 64)      93440       embedding_1[0][0]                \n",
            "__________________________________________________________________________________________________\n",
            "dropout_3 (Dropout)             (None, 512)          0           flatten_1[0][0]                  \n",
            "__________________________________________________________________________________________________\n",
            "lstm_3 (LSTM)                   (None, 64)           33024       lstm_2[0][0]                     \n",
            "__________________________________________________________________________________________________\n",
            "dense_6 (Dense)                 (None, 512)          262656      dropout_3[0][0]                  \n",
            "__________________________________________________________________________________________________\n",
            "dense_5 (Dense)                 (None, 18)           1170        lstm_3[0][0]                     \n",
            "__________________________________________________________________________________________________\n",
            "concatenate_1 (Concatenate)     (None, 530)          0           dense_6[0][0]                    \n",
            "                                                                 dense_5[0][0]                    \n",
            "__________________________________________________________________________________________________\n",
            "dense_7 (Dense)                 (None, 256)          135936      concatenate_1[0][0]              \n",
            "__________________________________________________________________________________________________\n",
            "dropout_4 (Dropout)             (None, 256)          0           dense_7[0][0]                    \n",
            "__________________________________________________________________________________________________\n",
            "dense_8 (Dense)                 (None, 128)          32896       dropout_4[0][0]                  \n",
            "__________________________________________________________________________________________________\n",
            "dropout_5 (Dropout)             (None, 128)          0           dense_8[0][0]                    \n",
            "__________________________________________________________________________________________________\n",
            "dense_9 (Dense)                 (None, 18)           2322        dropout_5[0][0]                  \n",
            "==================================================================================================\n",
            "Total params: 23,413,876\n",
            "Trainable params: 802,276\n",
            "Non-trainable params: 22,611,600\n",
            "__________________________________________________________________________________________________\n"
          ],
          "name": "stdout"
        }
      ]
    },
    {
      "cell_type": "code",
      "metadata": {
        "id": "XVbUTp5IsthF"
      },
      "source": [
        "es = EarlyStopping(patience=5)\n",
        "csv_logger = CSVLogger('/content/drive/My Drive/Movie_genre_prediction_dataset/model_history_log_model_lstm.csv', append=True)\n",
        "check_point = ModelCheckpoint(filepath='/content/drive/My Drive/Movie_genre_prediction_dataset/best_lstm_model_todate', save_best_only=True, save_weights_only=True)"
      ],
      "execution_count": null,
      "outputs": []
    },
    {
      "cell_type": "code",
      "metadata": {
        "colab": {
          "base_uri": "https://localhost:8080/"
        },
        "id": "8b3orwQJsvTL",
        "outputId": "aa797def-f669-4f7d-dc6a-daaacaa2eb01"
      },
      "source": [
        "word2vec_multi_modal_model = word2vec_model.fit([X_img_train, X_text_train], train_labels, batch_size=256, epochs=20,\n",
        "                            validation_data=([X_img_val, X_text_val], val_labels), callbacks = [es, csv_logger, check_point])\n"
      ],
      "execution_count": null,
      "outputs": [
        {
          "output_type": "stream",
          "text": [
            "Epoch 1/20\n",
            "116/116 [==============================] - 661s 5s/step - loss: 0.3839 - accuracy: 0.2303 - val_loss: 0.2804 - val_accuracy: 0.3281\n",
            "Epoch 2/20\n",
            "116/116 [==============================] - 611s 5s/step - loss: 0.2812 - accuracy: 0.3433 - val_loss: 0.2538 - val_accuracy: 0.3725\n",
            "Epoch 3/20\n",
            "116/116 [==============================] - 598s 5s/step - loss: 0.2570 - accuracy: 0.3956 - val_loss: 0.2418 - val_accuracy: 0.4233\n",
            "Epoch 4/20\n",
            "116/116 [==============================] - 593s 5s/step - loss: 0.2437 - accuracy: 0.4360 - val_loss: 0.2315 - val_accuracy: 0.4845\n",
            "Epoch 5/20\n",
            "116/116 [==============================] - 596s 5s/step - loss: 0.2335 - accuracy: 0.4754 - val_loss: 0.2274 - val_accuracy: 0.4918\n",
            "Epoch 6/20\n",
            "116/116 [==============================] - 595s 5s/step - loss: 0.2277 - accuracy: 0.4862 - val_loss: 0.2262 - val_accuracy: 0.4550\n",
            "Epoch 7/20\n",
            "116/116 [==============================] - 595s 5s/step - loss: 0.2221 - accuracy: 0.4884 - val_loss: 0.2236 - val_accuracy: 0.4967\n",
            "Epoch 8/20\n",
            "116/116 [==============================] - 593s 5s/step - loss: 0.2200 - accuracy: 0.4972 - val_loss: 0.2269 - val_accuracy: 0.4303\n",
            "Epoch 9/20\n",
            "116/116 [==============================] - 593s 5s/step - loss: 0.2176 - accuracy: 0.4932 - val_loss: 0.2214 - val_accuracy: 0.4747\n",
            "Epoch 10/20\n",
            "116/116 [==============================] - 603s 5s/step - loss: 0.2128 - accuracy: 0.5000 - val_loss: 0.2192 - val_accuracy: 0.4933\n",
            "Epoch 11/20\n",
            "116/116 [==============================] - 621s 5s/step - loss: 0.2097 - accuracy: 0.5134 - val_loss: 0.2186 - val_accuracy: 0.4830\n",
            "Epoch 12/20\n",
            "116/116 [==============================] - 599s 5s/step - loss: 0.2063 - accuracy: 0.5139 - val_loss: 0.2172 - val_accuracy: 0.4967\n",
            "Epoch 13/20\n",
            "116/116 [==============================] - 592s 5s/step - loss: 0.2028 - accuracy: 0.5189 - val_loss: 0.2189 - val_accuracy: 0.4799\n",
            "Epoch 14/20\n",
            "116/116 [==============================] - 597s 5s/step - loss: 0.2009 - accuracy: 0.5198 - val_loss: 0.2173 - val_accuracy: 0.4808\n",
            "Epoch 15/20\n",
            "116/116 [==============================] - 596s 5s/step - loss: 0.1948 - accuracy: 0.5341 - val_loss: 0.2163 - val_accuracy: 0.4787\n",
            "Epoch 16/20\n",
            "116/116 [==============================] - 590s 5s/step - loss: 0.1908 - accuracy: 0.5442 - val_loss: 0.2201 - val_accuracy: 0.4747\n",
            "Epoch 17/20\n",
            "116/116 [==============================] - 585s 5s/step - loss: 0.1895 - accuracy: 0.5463 - val_loss: 0.2221 - val_accuracy: 0.4571\n",
            "Epoch 18/20\n",
            "116/116 [==============================] - 586s 5s/step - loss: 0.1876 - accuracy: 0.5487 - val_loss: 0.2207 - val_accuracy: 0.4702\n",
            "Epoch 19/20\n",
            "116/116 [==============================] - 593s 5s/step - loss: 0.1802 - accuracy: 0.5620 - val_loss: 0.2226 - val_accuracy: 0.4793\n",
            "Epoch 20/20\n",
            "116/116 [==============================] - 594s 5s/step - loss: 0.1777 - accuracy: 0.5660 - val_loss: 0.2220 - val_accuracy: 0.4778\n"
          ],
          "name": "stdout"
        }
      ]
    },
    {
      "cell_type": "code",
      "metadata": {
        "id": "N9VtdC33ugkw"
      },
      "source": [
        "word2vec_model.save('/content/drive/My Drive/Movie_genre_prediction_dataset/64_45.h5')"
      ],
      "execution_count": null,
      "outputs": []
    },
    {
      "cell_type": "code",
      "metadata": {
        "id": "i9DK7gDnuhgW"
      },
      "source": [
        "word2vec_model = load_model(\"/content/drive/My Drive/Movie_genre_prediction_dataset/64_45.h5\")"
      ],
      "execution_count": null,
      "outputs": []
    },
    {
      "cell_type": "code",
      "metadata": {
        "id": "P_UrhwiO5p0t"
      },
      "source": [
        ""
      ],
      "execution_count": null,
      "outputs": []
    },
    {
      "cell_type": "code",
      "metadata": {
        "id": "aUrSfu015q53",
        "colab": {
          "base_uri": "https://localhost:8080/"
        },
        "outputId": "b3fc828f-22c5-4441-c886-b60b24fc1399"
      },
      "source": [
        "import tensorflow\n",
        "print(tensorflow.__version__)\n"
      ],
      "execution_count": null,
      "outputs": [
        {
          "output_type": "stream",
          "text": [
            "2.4.1\n"
          ],
          "name": "stdout"
        }
      ]
    },
    {
      "cell_type": "code",
      "metadata": {
        "id": "_aUWc5hkulrR"
      },
      "source": [
        "def plot_loss(history):\n",
        "  plt.title('Loss')\n",
        "  plt.plot(history.history['loss'], label='train')\n",
        "  plt.plot(history.history['val_loss'], label='test')\n",
        "  plt.legend(['training loss', 'validation loss'], loc='upper right')\n",
        "  plt.show()\n",
        "\n",
        "def plot_acc(history):\n",
        "  plt.title('Accuracy')\n",
        "  plt.plot(history.history['accuracy'], label='train')\n",
        "  plt.plot(history.history['val_accuracy'], label='test')\n",
        "  plt.legend(['training accuracy', 'validation accuracy'], loc='lower right')\n",
        "  plt.show()"
      ],
      "execution_count": null,
      "outputs": []
    },
    {
      "cell_type": "code",
      "metadata": {
        "colab": {
          "base_uri": "https://localhost:8080/",
          "height": 556
        },
        "id": "vkACq0EhunMr",
        "outputId": "32d70ffb-0682-4f65-ac13-71d7121e440a"
      },
      "source": [
        "\n",
        "plot_acc(word2vec_multi_modal_model)"
      ],
      "execution_count": null,
      "outputs": [
        {
          "output_type": "display_data",
          "data": {
            "image/png": "[encoded data removed]",
            "text/plain": [
              "<Figure size 921.6x633.6 with 1 Axes>"
            ]
          },
          "metadata": {
            "tags": []
          }
        }
      ]
    },
    {
      "cell_type": "code",
      "metadata": {
        "colab": {
          "base_uri": "https://localhost:8080/",
          "height": 556
        },
        "id": "M_FBnRkrupGD",
        "outputId": "60d6f276-f168-43e0-b07d-c47a41520af5"
      },
      "source": [
        "\n",
        "plot_loss(word2vec_multi_modal_model)"
      ],
      "execution_count": null,
      "outputs": [
        {
          "output_type": "display_data",
          "data": {
            "image/png": "[encoded data removed]",
            "text/plain": [
              "<Figure size 921.6x633.6 with 1 Axes>"
            ]
          },
          "metadata": {
            "tags": []
          }
        }
      ]
    },
    {
      "cell_type": "code",
      "metadata": {
        "colab": {
          "base_uri": "https://localhost:8080/"
        },
        "id": "KKNKggtrsxIt",
        "outputId": "f59d8f03-06b8-46e8-f10e-15fef858c7ce"
      },
      "source": [
        "loss, acc = word2vec_model.evaluate([X_img_test, X_text_test], test_labels, batch_size=16)\n",
        "print(\"word2vec model:\", loss, acc)"
      ],
      "execution_count": null,
      "outputs": [
        {
          "output_type": "stream",
          "text": [
            "514/514 [==============================] - 175s 335ms/step - loss: 0.2232 - accuracy: 0.4724\n",
            "word2vec model: 0.22315344214439392 0.47236424684524536\n"
          ],
          "name": "stdout"
        }
      ]
    },
    {
      "cell_type": "code",
      "metadata": {
        "id": "boe1MpOkhnhN"
      },
      "source": [
        "out = word2vec_model.predict([X_img_test, X_text_test], batch_size=256)\n"
      ],
      "execution_count": null,
      "outputs": []
    },
    {
      "cell_type": "code",
      "metadata": {
        "colab": {
          "base_uri": "https://localhost:8080/"
        },
        "id": "rLuNORibhyB_",
        "outputId": "f92ca4ca-ad3f-4bdc-bd1e-d0aedc9c6db6"
      },
      "source": [
        "roc_auc = roc_auc_score(test_labels, out)\n",
        "print(roc_auc)"
      ],
      "execution_count": null,
      "outputs": [
        {
          "output_type": "stream",
          "text": [
            "0.8734835137324075\n"
          ],
          "name": "stdout"
        }
      ]
    },
    {
      "cell_type": "code",
      "metadata": {
        "id": "C06pc9Uoh1oH"
      },
      "source": [
        "y_pred = np.zeros(out.shape)\n",
        "y_pred[out>0.5]=1\n",
        "y_pred = np.array(y_pred)"
      ],
      "execution_count": null,
      "outputs": []
    },
    {
      "cell_type": "code",
      "metadata": {
        "colab": {
          "base_uri": "https://localhost:8080/"
        },
        "id": "OVuCBhMVh5N9",
        "outputId": "7148dd37-8d67-4bbb-bb7a-2e6277ea485f"
      },
      "source": [
        "hl = hamming_loss(test_labels,y_pred)\n",
        "score = accuracy_score(test_labels, y_pred)\n",
        "precision = precision_score(test_labels,y_pred, average = 'samples')\n",
        "recall = recall_score(test_labels,y_pred, average = 'samples')\n",
        "f1 = f1_score(test_labels,y_pred, average = 'samples')\n",
        "print(\"Hamming loss:\", hl)\n",
        "print(\"score:\", score)\n",
        "print(\"Precision:\", precision)\n",
        "print(\"Recall:\", recall)\n",
        "print(\"F1_score:\", f1)"
      ],
      "execution_count": null,
      "outputs": [
        {
          "output_type": "stream",
          "text": [
            "Hamming loss: 0.08920406893379866\n",
            "score: 0.2293644996347699\n",
            "Precision: 0.664994724454184\n",
            "Recall: 0.5621650608137094\n",
            "F1_score: 0.5705371394560583\n"
          ],
          "name": "stdout"
        },
        {
          "output_type": "stream",
          "text": [
            "/usr/local/lib/python3.7/dist-packages/sklearn/metrics/_classification.py:1272: UndefinedMetricWarning: Precision is ill-defined and being set to 0.0 in samples with no predicted labels. Use `zero_division` parameter to control this behavior.\n",
            "  _warn_prf(average, modifier, msg_start, len(result))\n"
          ],
          "name": "stderr"
        }
      ]
    },
    {
      "cell_type": "code",
      "metadata": {
        "colab": {
          "base_uri": "https://localhost:8080/"
        },
        "id": "w4jL25XiiynZ",
        "outputId": "e723d5e1-6947-44a9-9a78-5c095003d10e"
      },
      "source": [
        "from sklearn.metrics import matthews_corrcoef\n",
        "y_test = test_labels\n",
        "y_pred = np.zeros(out.shape)\n",
        "y_pred = np.array(y_pred) \n",
        "threshold = np.arange(0.01, 0.90, 0.20)\n",
        "\n",
        "acc = []\n",
        "accuracies = []\n",
        "best_threshold = np.zeros(out.shape[1])\n",
        "for i in range(out.shape[1]):\n",
        "  y_prob = np.array(out[:,i])\n",
        "  for j in threshold:\n",
        "    y_pred = [1 if prob>=j else 0 for prob in y_prob]\n",
        "    y_pred = np.array(y_pred)\n",
        "    mcc = matthews_corrcoef(y_test[:,i],y_pred)\n",
        "    acc.append(mcc)\n",
        "  acc   = np.array(acc)\n",
        "  index = np.where(acc==acc.max())\n",
        "  accuracies.append(acc.max())\n",
        "  best_threshold[i] = threshold[index[0][0]]\n",
        "  acc = []\n",
        "\n",
        "y_pred = np.array([[1 if out[i,j]>=best_threshold[j] else 0 for j in range(y_test.shape[1])] for i in range(len(y_test))])"
      ],
      "execution_count": null,
      "outputs": [
        {
          "output_type": "stream",
          "text": [
            "/usr/local/lib/python3.7/dist-packages/sklearn/metrics/_classification.py:900: RuntimeWarning: invalid value encountered in double_scalars\n",
            "  mcc = cov_ytyp / np.sqrt(cov_ytyt * cov_ypyp)\n"
          ],
          "name": "stderr"
        }
      ]
    },
    {
      "cell_type": "code",
      "metadata": {
        "id": "cWuXaWEAizc8"
      },
      "source": [
        "preds = np.transpose(y_pred)\n",
        "labels = np.transpose(test_labels)"
      ],
      "execution_count": null,
      "outputs": []
    },
    {
      "cell_type": "code",
      "metadata": {
        "colab": {
          "base_uri": "https://localhost:8080/",
          "height": 1000
        },
        "id": "0eGa6NLpi4ZC",
        "outputId": "659a0afe-8ad0-4528-c514-0b6bf6960ef0"
      },
      "source": [
        "from mlxtend.plotting import plot_confusion_matrix\n",
        "from sklearn.metrics import confusion_matrix\n",
        "\n",
        "accuracy_per_class = []\n",
        "precision_per_class = []\n",
        "recall_per_class = []\n",
        "f1_per_class = []\n",
        "classes = list(mlb.classes_)\n",
        "for i in range(labels.shape[0]):\n",
        "  # print(len(labels[i, :]), len(preds[i, :]))\n",
        "  accuracy_per_class.append(accuracy_score(labels[i, :], preds[i, :]))\n",
        "  precision_per_class.append(precision_score(labels[i, :], preds[i, :]))\n",
        "  recall_per_class.append(recall_score(labels[i, :], preds[i, :]))\n",
        "  f1_per_class.append(f1_score(labels[i, :], preds[i, :]))\n",
        "  print(classes[i])\n",
        "  print(\"accuracy:\", accuracy_per_class[i], \"precision:\", precision_per_class[i],\n",
        "        \"recall:\", recall_per_class[i], \"f1:\", f1_per_class[i])\n",
        "  cm  = confusion_matrix(labels[i, :], preds[i, :])\n",
        "  plt.figure()\n",
        "  plot_confusion_matrix(cm,figsize=(12,8), hide_ticks=True, cmap=plt.cm.Blues)\n",
        "  plt.xticks(range(2), ['1', '0'], fontsize=16)\n",
        "  plt.yticks(range(2), ['1', '0'], fontsize=16)\n",
        "  plt.show()"
      ],
      "execution_count": null,
      "outputs": [
        {
          "output_type": "stream",
          "text": [
            "Action\n",
            "accuracy: 0.8553688823959095 precision: 0.5435714285714286 recall: 0.5809160305343511 f1: 0.5616236162361624\n"
          ],
          "name": "stdout"
        },
        {
          "output_type": "display_data",
          "data": {
            "text/plain": [
              "<Figure size 921.6x633.6 with 0 Axes>"
            ]
          },
          "metadata": {
            "tags": []
          }
        },
        {
          "output_type": "display_data",
          "data": {
            "image/png": "[encoded data removed]",
            "text/plain": [
              "<Figure size 864x576 with 1 Axes>"
            ]
          },
          "metadata": {
            "tags": []
          }
        },
        {
          "output_type": "stream",
          "text": [
            "Adventure\n",
            "accuracy: 0.8531775018261505 precision: 0.31136363636363634 recall: 0.5805084745762712 f1: 0.4053254437869822\n"
          ],
          "name": "stdout"
        },
        {
          "output_type": "display_data",
          "data": {
            "text/plain": [
              "<Figure size 921.6x633.6 with 0 Axes>"
            ]
          },
          "metadata": {
            "tags": []
          }
        },
        {
          "output_type": "display_data",
          "data": {
            "image/png": "[encoded data removed]",
            "text/plain": [
              "<Figure size 864x576 with 1 Axes>"
            ]
          },
          "metadata": {
            "tags": []
          }
        },
        {
          "output_type": "stream",
          "text": [
            "Animation\n",
            "accuracy: 0.9414414414414415 precision: 0.42439862542955326 recall: 0.628498727735369 f1: 0.5066666666666667\n"
          ],
          "name": "stdout"
        },
        {
          "output_type": "display_data",
          "data": {
            "text/plain": [
              "<Figure size 921.6x633.6 with 0 Axes>"
            ]
          },
          "metadata": {
            "tags": []
          }
        },
        {
          "output_type": "display_data",
          "data": {
            "image/png": "[encoded data removed]",
            "text/plain": [
              "<Figure size 864x576 with 1 Axes>"
            ]
          },
          "metadata": {
            "tags": []
          }
        },
        {
          "output_type": "stream",
          "text": [
            "Comedy\n",
            "accuracy: 0.7835402970538106 precision: 0.6590038314176245 recall: 0.6130693069306931 f1: 0.6352072219942553\n"
          ],
          "name": "stdout"
        },
        {
          "output_type": "display_data",
          "data": {
            "text/plain": [
              "<Figure size 921.6x633.6 with 0 Axes>"
            ]
          },
          "metadata": {
            "tags": []
          }
        },
        {
          "output_type": "display_data",
          "data": {
            "image/png": "[encoded data removed]",
            "text/plain": [
              "<Figure size 864x576 with 1 Axes>"
            ]
          },
          "metadata": {
            "tags": []
          }
        },
        {
          "output_type": "stream",
          "text": [
            "Crime\n",
            "accuracy: 0.8679084489895301 precision: 0.4153616703952274 recall: 0.6491841491841492 f1: 0.506593906321055\n"
          ],
          "name": "stdout"
        },
        {
          "output_type": "display_data",
          "data": {
            "text/plain": [
              "<Figure size 921.6x633.6 with 0 Axes>"
            ]
          },
          "metadata": {
            "tags": []
          }
        },
        {
          "output_type": "display_data",
          "data": {
            "image/png": "[encoded data removed]",
            "text/plain": [
              "<Figure size 864x576 with 1 Axes>"
            ]
          },
          "metadata": {
            "tags": []
          }
        },
        {
          "output_type": "stream",
          "text": [
            "Documentary\n",
            "accuracy: 0.956172388604821 precision: 0.7356902356902357 recall: 0.6828125 f1: 0.7082658022690438\n"
          ],
          "name": "stdout"
        },
        {
          "output_type": "display_data",
          "data": {
            "text/plain": [
              "<Figure size 921.6x633.6 with 0 Axes>"
            ]
          },
          "metadata": {
            "tags": []
          }
        },
        {
          "output_type": "display_data",
          "data": {
            "image/png": "[encoded data removed]",
            "text/plain": [
              "<Figure size 864x576 with 1 Axes>"
            ]
          },
          "metadata": {
            "tags": []
          }
        },
        {
          "output_type": "stream",
          "text": [
            "Drama\n",
            "accuracy: 0.7152422692963234 precision: 0.6707692307692308 recall: 0.7839712304135628 f1: 0.7229657704607367\n"
          ],
          "name": "stdout"
        },
        {
          "output_type": "display_data",
          "data": {
            "text/plain": [
              "<Figure size 921.6x633.6 with 0 Axes>"
            ]
          },
          "metadata": {
            "tags": []
          }
        },
        {
          "output_type": "display_data",
          "data": {
            "image/png": "[encoded data removed]",
            "text/plain": [
              "<Figure size 864x576 with 1 Axes>"
            ]
          },
          "metadata": {
            "tags": []
          }
        },
        {
          "output_type": "stream",
          "text": [
            "Family\n",
            "accuracy: 0.9416849281714147 precision: 0.5953002610966057 recall: 0.41304347826086957 f1: 0.4877005347593583\n"
          ],
          "name": "stdout"
        },
        {
          "output_type": "display_data",
          "data": {
            "text/plain": [
              "<Figure size 921.6x633.6 with 0 Axes>"
            ]
          },
          "metadata": {
            "tags": []
          }
        },
        {
          "output_type": "display_data",
          "data": {
            "image/png": "[encoded data removed]",
            "text/plain": [
              "<Figure size 864x576 with 1 Axes>"
            ]
          },
          "metadata": {
            "tags": []
          }
        },
        {
          "output_type": "stream",
          "text": [
            "Fantasy\n",
            "accuracy: 0.914536157779401 precision: 0.3230769230769231 recall: 0.5144766146993318 f1: 0.3969072164948454\n"
          ],
          "name": "stdout"
        },
        {
          "output_type": "display_data",
          "data": {
            "text/plain": [
              "<Figure size 921.6x633.6 with 0 Axes>"
            ]
          },
          "metadata": {
            "tags": []
          }
        },
        {
          "output_type": "display_data",
          "data": {
            "image/png": "[encoded data removed]",
            "text/plain": [
              "<Figure size 864x576 with 1 Axes>"
            ]
          },
          "metadata": {
            "tags": []
          }
        },
        {
          "output_type": "stream",
          "text": [
            "History\n",
            "accuracy: 0.9258582907231556 precision: 0.2193877551020408 recall: 0.46236559139784944 f1: 0.29757785467128023\n"
          ],
          "name": "stdout"
        },
        {
          "output_type": "display_data",
          "data": {
            "text/plain": [
              "<Figure size 921.6x633.6 with 0 Axes>"
            ]
          },
          "metadata": {
            "tags": []
          }
        },
        {
          "output_type": "display_data",
          "data": {
            "image/png": "[encoded data removed]",
            "text/plain": [
              "<Figure size 864x576 with 1 Axes>"
            ]
          },
          "metadata": {
            "tags": []
          }
        },
        {
          "output_type": "stream",
          "text": [
            "Horror\n",
            "accuracy: 0.9252495738982226 precision: 0.6595289079229122 recall: 0.6754385964912281 f1: 0.6673889490790899\n"
          ],
          "name": "stdout"
        },
        {
          "output_type": "display_data",
          "data": {
            "text/plain": [
              "<Figure size 921.6x633.6 with 0 Axes>"
            ]
          },
          "metadata": {
            "tags": []
          }
        },
        {
          "output_type": "display_data",
          "data": {
            "image/png": "[encoded data removed]",
            "text/plain": [
              "<Figure size 864x576 with 1 Axes>"
            ]
          },
          "metadata": {
            "tags": []
          }
        },
        {
          "output_type": "stream",
          "text": [
            "Music\n",
            "accuracy: 0.9634769905040176 precision: 0.47417840375586856 recall: 0.3494809688581315 f1: 0.40239043824701204\n"
          ],
          "name": "stdout"
        },
        {
          "output_type": "display_data",
          "data": {
            "text/plain": [
              "<Figure size 921.6x633.6 with 0 Axes>"
            ]
          },
          "metadata": {
            "tags": []
          }
        },
        {
          "output_type": "display_data",
          "data": {
            "image/png": "[encoded data removed]",
            "text/plain": [
              "<Figure size 864x576 with 1 Axes>"
            ]
          },
          "metadata": {
            "tags": []
          }
        },
        {
          "output_type": "stream",
          "text": [
            "Mystery\n",
            "accuracy: 0.9100316532748965 precision: 0.3153724247226624 recall: 0.3932806324110672 f1: 0.3500439753737907\n"
          ],
          "name": "stdout"
        },
        {
          "output_type": "display_data",
          "data": {
            "text/plain": [
              "<Figure size 921.6x633.6 with 0 Axes>"
            ]
          },
          "metadata": {
            "tags": []
          }
        },
        {
          "output_type": "display_data",
          "data": {
            "image/png": "[encoded data removed]",
            "text/plain": [
              "<Figure size 864x576 with 1 Axes>"
            ]
          },
          "metadata": {
            "tags": []
          }
        },
        {
          "output_type": "stream",
          "text": [
            "Romance\n",
            "accuracy: 0.8447772096420745 precision: 0.48957464553794827 recall: 0.4696 f1: 0.47937933850551245\n"
          ],
          "name": "stdout"
        },
        {
          "output_type": "display_data",
          "data": {
            "text/plain": [
              "<Figure size 921.6x633.6 with 0 Axes>"
            ]
          },
          "metadata": {
            "tags": []
          }
        },
        {
          "output_type": "display_data",
          "data": {
            "image/png": "[encoded data removed]",
            "text/plain": [
              "<Figure size 864x576 with 1 Axes>"
            ]
          },
          "metadata": {
            "tags": []
          }
        },
        {
          "output_type": "stream",
          "text": [
            "Science Fiction\n",
            "accuracy: 0.9430241051862673 precision: 0.6633858267716536 recall: 0.5315457413249212 f1: 0.5901926444833626\n"
          ],
          "name": "stdout"
        },
        {
          "output_type": "display_data",
          "data": {
            "text/plain": [
              "<Figure size 921.6x633.6 with 0 Axes>"
            ]
          },
          "metadata": {
            "tags": []
          }
        },
        {
          "output_type": "display_data",
          "data": {
            "image/png": "[encoded data removed]",
            "text/plain": [
              "<Figure size 864x576 with 1 Axes>"
            ]
          },
          "metadata": {
            "tags": []
          }
        },
        {
          "output_type": "stream",
          "text": [
            "Thriller\n",
            "accuracy: 0.8310202093985878 precision: 0.5215827338129496 recall: 0.5958904109589042 f1: 0.5562659846547315\n"
          ],
          "name": "stdout"
        },
        {
          "output_type": "display_data",
          "data": {
            "text/plain": [
              "<Figure size 921.6x633.6 with 0 Axes>"
            ]
          },
          "metadata": {
            "tags": []
          }
        },
        {
          "output_type": "display_data",
          "data": {
            "image/png": "[encoded data removed]",
            "text/plain": [
              "<Figure size 864x576 with 1 Axes>"
            ]
          },
          "metadata": {
            "tags": []
          }
        },
        {
          "output_type": "stream",
          "text": [
            "War\n",
            "accuracy: 0.9666423179936694 precision: 0.4627831715210356 recall: 0.5697211155378487 f1: 0.5107142857142858\n"
          ],
          "name": "stdout"
        },
        {
          "output_type": "display_data",
          "data": {
            "text/plain": [
              "<Figure size 921.6x633.6 with 0 Axes>"
            ]
          },
          "metadata": {
            "tags": []
          }
        },
        {
          "output_type": "display_data",
          "data": {
            "image/png": "[encoded data removed]",
            "text/plain": [
              "<Figure size 864x576 with 1 Axes>"
            ]
          },
          "metadata": {
            "tags": []
          }
        },
        {
          "output_type": "stream",
          "text": [
            "Western\n",
            "accuracy: 0.9803993182371561 precision: 0.6666666666666666 recall: 0.5814977973568282 f1: 0.6211764705882352\n"
          ],
          "name": "stdout"
        },
        {
          "output_type": "display_data",
          "data": {
            "text/plain": [
              "<Figure size 921.6x633.6 with 0 Axes>"
            ]
          },
          "metadata": {
            "tags": []
          }
        },
        {
          "output_type": "display_data",
          "data": {
            "image/png": "[encoded data removed]",
            "text/plain": [
              "<Figure size 864x576 with 1 Axes>"
            ]
          },
          "metadata": {
            "tags": []
          }
        }
      ]
    },
    {
      "cell_type": "code",
      "metadata": {
        "colab": {
          "base_uri": "https://localhost:8080/"
        },
        "id": "MlvUDSOSi7O4",
        "outputId": "271b5f30-55a3-4868-dfdf-839922197c51"
      },
      "source": [
        "print(\"Acc:\", np.mean(accuracy_per_class), \"Precision:\", np.mean(precision_per_class), \"Recall:\",\n",
        "      np.mean(recall_per_class), \"f1:\", np.mean(f1_per_class))"
      ],
      "execution_count": null,
      "outputs": [
        {
          "output_type": "stream",
          "text": [
            "Acc: 0.8955306658009362 Precision: 0.5083886877013445 Recall: 0.5597389648150766 f1: 0.5225770066836893\n"
          ],
          "name": "stdout"
        }
      ]
    }
  ]
}